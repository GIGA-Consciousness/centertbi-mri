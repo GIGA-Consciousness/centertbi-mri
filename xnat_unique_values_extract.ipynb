{
 "cells": [
  {
   "cell_type": "markdown",
   "metadata": {},
   "source": [
    "# XNAT unique values extractor\n",
    "This notebook walk through all objects in a XNAT database to extract all possible fields and all possible values.\n",
    "Please edit login.cfg with your credentials before executing this script."
   ]
  },
  {
   "cell_type": "markdown",
   "metadata": {},
   "source": [
    "### Init and helper functions"
   ]
  },
  {
   "cell_type": "code",
   "execution_count": null,
   "metadata": {
    "collapsed": false
   },
   "outputs": [],
   "source": [
    "#\n",
    "# Creation: 26/2017 by Stephen Larroque\n",
    "#\n",
    "%load_ext autoreload\n",
    "%autoreload 2\n",
    "\n",
    "import os\n",
    "import lxml\n",
    "import xml.etree.ElementTree as ET\n",
    "import pyxnat\n",
    "import re\n",
    "\n",
    "try:\n",
    "    import ujson as json # fast json lib\n",
    "except ImportError:\n",
    "    import json # native json lib"
   ]
  },
  {
   "cell_type": "code",
   "execution_count": null,
   "metadata": {
    "collapsed": true
   },
   "outputs": [],
   "source": [
    "#### HELPER FUNCTIONS\n",
    "from copy import deepcopy\n",
    "from libs.xmlpp import get_pprint as xml_pprint\n",
    "def get_raw_xml(elements_list):\n",
    "    '''Get the source xml of a list of lxml elements or pyxnat objects'''\n",
    "    # Convert to a list of elements if it's a single element (to ease looping)\n",
    "    if not isinstance(elements_list, list):\n",
    "        elements_list = [elements_list]\n",
    "\n",
    "    out = ''\n",
    "    for i, element in enumerate(elements_list):\n",
    "        out += '\\n=== Element %i\\n' % i\n",
    "        # If this is an XML element\n",
    "        if isinstance(element, lxml.etree._Element):\n",
    "            # Make a copy of the element because we will modify it\n",
    "            e = deepcopy(element)\n",
    "            # Strip comments, else lxml does not know how to print the XML\n",
    "            lxml.etree.strip_tags(e, lxml.etree.Comment)\n",
    "            # Add the XML of this element to the output\n",
    "            out += xml_pprint(lxml.etree.tostring(e, pretty_print=True))\n",
    "            #print(lxml.etree.tostring(e, pretty_print=True)) #debug\n",
    "        # pyxnat object, we just fetch the xml from the server\n",
    "        if isinstance(element, pyxnat.core.resources.EObject):\n",
    "            out += element.get()\n",
    "        # Print differently if this is any other type\n",
    "        else:\n",
    "            out += repr(element)\n",
    "    return out\n",
    "\n",
    "def pprint_xml(obj):\n",
    "    print(xml_pprint(get_raw_xml(obj)))\n",
    "\n",
    "#### HELPER GLOBALS\n",
    "# XNAT namespace (to use with lxml xpath queries)\n",
    "xnatns = {'arc': 'http://nrg.wustl.edu/arc',\n",
    " 'cat': 'http://nrg.wustl.edu/catalog',\n",
    " 'ext': 'http://nrg.wustl.edu/ext',\n",
    " 'pipe': 'http://nrg.wustl.edu/pipe',\n",
    " 'prov': 'http://www.nbirn.net/prov',\n",
    " 'scr': 'http://nrg.wustl.edu/scr',\n",
    " 'val': 'http://nrg.wustl.edu/val',\n",
    " 'wrk': 'http://nrg.wustl.edu/workflow',\n",
    " 'xdat': 'http://nrg.wustl.edu/security',\n",
    " 'xnat': 'http://nrg.wustl.edu/xnat',\n",
    " 'xnat_a': 'http://nrg.wustl.edu/xnat_assessments',\n",
    " 'xsi': 'http://www.w3.org/2001/XMLSchema-instance'}"
   ]
  },
  {
   "cell_type": "markdown",
   "metadata": {},
   "source": [
    "### Connection to XNAT"
   ]
  },
  {
   "cell_type": "code",
   "execution_count": null,
   "metadata": {
    "collapsed": false
   },
   "outputs": [],
   "source": [
    "# Loading login infos\n",
    "cfgpath = os.path.join(os.getcwd(), 'login.cfg')\n",
    "with open(cfgpath) as f:\n",
    "    login_infos = json.load(f)\n",
    "\n",
    "# Connect to XNAT db\n",
    "central = pyxnat.Interface(server=\"http://tbixnat.incf.org:8080\", user=login_infos['username'], password=login_infos['password'], cachedir='/tmp')\n",
    "# Add schemas (allows to use .attrs() to get list of attributes)\n",
    "central.manage.schemas.add('xnat/xnat.xsd')\n",
    "\n",
    "# Get list of all centers\n",
    "centers = central.select.projects()\n",
    "print(centers.get())\n",
    "\n",
    "# Select center (constraining to one center for the moment)\n",
    "# TODO: loop over all centers\n",
    "#cULgData_Liege_project = central.select.project('LIE')\n",
    "\n",
    "# Show structure of project\n",
    "central.inspect.structure()"
   ]
  },
  {
   "cell_type": "code",
   "execution_count": null,
   "metadata": {
    "collapsed": false
   },
   "outputs": [],
   "source": [
    "obj = centers[0]"
   ]
  },
  {
   "cell_type": "code",
   "execution_count": null,
   "metadata": {
    "collapsed": false
   },
   "outputs": [],
   "source": [
    "count = sum(1 for _ in centers)"
   ]
  },
  {
   "cell_type": "code",
   "execution_count": null,
   "metadata": {
    "collapsed": false
   },
   "outputs": [],
   "source": [
    "print(get_raw_xml(obj))"
   ]
  },
  {
   "cell_type": "code",
   "execution_count": null,
   "metadata": {
    "collapsed": false
   },
   "outputs": [],
   "source": [
    "from libs.tqdm import tqdm_notebook\n",
    "\n",
    "def rec_merge(a, b, path=None, robust=False):\n",
    "    \"\"\"Recursively merges dict b into a\n",
    "    Kudos to Andrew Cooke: https://stackoverflow.com/a/7205107/1121352\"\"\"\n",
    "    if path is None: path = []\n",
    "    for key in b:\n",
    "        if key in a:\n",
    "            if isinstance(a[key], dict) and isinstance(b[key], dict):\n",
    "                rec_merge(a[key], b[key], path + [str(key)], robust)\n",
    "            elif isinstance(a[key], set) and isinstance(b[key], set):\n",
    "                a[key].update(b[key])\n",
    "            elif a[key] == b[key]:\n",
    "                pass # same leaf value\n",
    "            else:\n",
    "                # Conflict: if robust, we copy the old value into the same key + appended with '_conflict'\n",
    "                if robust:\n",
    "                    ckey = key+'_conflict'\n",
    "                    if not ckey in a:\n",
    "                        a[key+'_conflict'] = a[key]\n",
    "                    else:\n",
    "                        a[key+'_conflict'].update(a[key])\n",
    "                    a[key] = b[key]\n",
    "                # Else, display an exception\n",
    "                else:\n",
    "                    print(key, a[key], b[key], type(a[key]), type(b[key]))\n",
    "                    raise Exception('Conflict at %s' % '.'.join(path + [str(key)]))\n",
    "        else:\n",
    "            a[key] = b[key]\n",
    "    return a\n",
    "\n",
    "def walkthrough(xnatobjlist, namespaces=None, firstonly=False, level=0, debug=False):\n",
    "    if not hasattr(xnatobjlist, '__iter__'):\n",
    "        xnatobjlist = [xnatobjlist]\n",
    "    out = {'id': set(),\n",
    "           'label': set(),\n",
    "           'datatype': set(),\n",
    "           'text': set(),\n",
    "           'attributes': {},\n",
    "           'subelements': {},\n",
    "           'children': {}\n",
    "          }\n",
    "    # prepare namespaces for attribute search\n",
    "    if namespaces:\n",
    "        namespaces_filt = dict()\n",
    "        for val, key in namespaces.items():\n",
    "            namespaces_filt['{'+key+'}'] = val+':'\n",
    "\n",
    "    # prepare for progress display\n",
    "    # count\n",
    "    count = sum(1 for _ in xnatobjlist) # count total number of items (to predict time and display progress)\n",
    "    if firstonly and count > firstonly:\n",
    "        count = firstonly\n",
    "    # current object type name\n",
    "    try:\n",
    "        if hasattr(xnatobjlist, 'tag') and isinstance(xnatobjlist.tag, str):\n",
    "            curtype = re.sub('{.*}', '', xnatobjlist.tag)\n",
    "        else:\n",
    "            obj = str(type(xnatobjlist[0]))\n",
    "            curtype = obj[obj.rfind('.')+1:obj.rfind(\"'\")]\n",
    "    except StopIteration as exc:\n",
    "        curtype = ''\n",
    "        pass\n",
    "\n",
    "    i = 0\n",
    "    # Main loop: for each item in the list\n",
    "    for obj in tqdm_notebook(xnatobjlist, total=count, desc=curtype, position=level, leave=False):\n",
    "        # Continue to the next object?\n",
    "        if firstonly:\n",
    "            if i >= firstonly:\n",
    "                break\n",
    "        # Debug print\n",
    "        if debug: print(obj)\n",
    "        # add id and label\n",
    "        if hasattr(obj, 'id'):\n",
    "            out['id'].add(obj.id())\n",
    "        if hasattr(obj, 'label'):\n",
    "            out['label'].add(obj.label())\n",
    "        if hasattr(obj, 'datatype'):\n",
    "            out['datatype'].add(obj.datatype())\n",
    "        if hasattr(obj, 'text') and obj.text:\n",
    "            out['text'].add(obj.text.strip())\n",
    "        # Only if not a resource nor a file, else it's only about files so no xml content\n",
    "        if not isinstance(obj, (pyxnat.core.resources.Resource, pyxnat.core.resources.File)):\n",
    "            # Attributes\n",
    "            attrs = obj.xpath('@*')\n",
    "            for attr in attrs:\n",
    "                # Get attribute's xml name and value\n",
    "                attrname = attr.attrname\n",
    "                if namespaces: # if namespaces is provided, we can use that to replace the prefix (else attributes don't provide the prefix, only subelements do)\n",
    "                    #if attrname.startswith('{'): print(attrname)\n",
    "                    for key, val in namespaces_filt.items():\n",
    "                        #if attrname.startswith('{'): print(key, val)\n",
    "                        attrname = attrname.replace(key, val)\n",
    "                    #print('lala'+attrname)\n",
    "                attrval = str(attr)\n",
    "                # Create a unique set for this attribute\n",
    "                if not attrname in out['attributes']:\n",
    "                    out['attributes'][attrname] = set()\n",
    "                # Add this value (the set will make sure it is unique)\n",
    "                out['attributes'][attrname].add( attrval )\n",
    "            # Subelements\n",
    "            subelts = obj.xpath('*')\n",
    "            for subelt in subelts:\n",
    "                # Get subelement's xml name\n",
    "                if subelt.prefix:\n",
    "                    prefix = (subelt.prefix + ':')\n",
    "                else:\n",
    "                    prefix = ''\n",
    "                subeltname = prefix + re.sub('{.*}', '', subelt.tag)\n",
    "                # Get subelement's value\n",
    "                if hasattr(subelt, 'text'):\n",
    "                    subeltval = subelt.text\n",
    "                else:\n",
    "                    subeltval = str(subelt)\n",
    "                if subeltval: # remove useless chars at the start and end\n",
    "                    subeltval = subeltval.strip()\n",
    "                # Recursive call if it has children\n",
    "                if subelt.getchildren() or subelt.xpath('@*'): # subelt.getchildren() == subelt.xpath('*')\n",
    "                    # Create a dict for this subelement\n",
    "                    if not subeltname in out['subelements']:\n",
    "                        out['subelements'][subeltname] = dict()\n",
    "                    cval = walkthrough([subelt], namespaces=namespaces, firstonly=firstonly, level=level+1, debug=debug)\n",
    "                    # Merge with our dict\n",
    "                    rec_merge(out['subelements'][subeltname], cval, robust=True)\n",
    "                else:\n",
    "                    # Create a unique set for this subelement\n",
    "                    if not subeltname in out['subelements']:\n",
    "                        out['subelements'][subeltname] = set()\n",
    "                    # Add this value (the set will make sure it is unique)\n",
    "                    out['subelements'][subeltname].add( subeltval )\n",
    "        # Children\n",
    "        if hasattr(obj, 'children'):\n",
    "            for childname in obj.children():\n",
    "                # Call the method to retrieve children from child name\n",
    "                child = getattr(obj, childname)()\n",
    "                # Recursive call\n",
    "                cres = walkthrough(child, namespaces=namespaces, firstonly=firstonly, level=level+1, debug=debug)\n",
    "                # Merge with our dict\n",
    "                if not childname in out['children']:\n",
    "                    out['children'][childname] = {}\n",
    "                rec_merge(out['children'][childname], cres, robust=True)\n",
    "        # Increment counter for firstonly\n",
    "        i += 1\n",
    "    return out\n"
   ]
  },
  {
   "cell_type": "code",
   "execution_count": null,
   "metadata": {
    "collapsed": false
   },
   "outputs": [],
   "source": [
    "out = walkthrough(centers, namespaces=xnatns, firstonly=2, debug=False)"
   ]
  },
  {
   "cell_type": "code",
   "execution_count": null,
   "metadata": {
    "collapsed": false,
    "scrolled": true
   },
   "outputs": [],
   "source": [
    "# Save the result into a json file\n",
    "with open('db_unique_values.json', 'w') as f:\n",
    "    f.write(json.dumps({'projects': out}, ensure_ascii=False, indent=4, sort_keys=True))"
   ]
  },
  {
   "cell_type": "code",
   "execution_count": null,
   "metadata": {
    "collapsed": false
   },
   "outputs": [],
   "source": [
    "# Show the result\n",
    "out"
   ]
  },
  {
   "cell_type": "markdown",
   "metadata": {},
   "source": [
    "-------------------------\n",
    "### Unused code"
   ]
  },
  {
   "cell_type": "code",
   "execution_count": null,
   "metadata": {
    "collapsed": false
   },
   "outputs": [],
   "source": [
    "from collections import OrderedDict\n",
    "\n",
    "class SortedDict(OrderedDict):\n",
    "\n",
    "    def __init__(self, **kwargs):\n",
    "        super(SortedDict, self).__init__()\n",
    "\n",
    "        for key, value in sorted(kwargs.items()):\n",
    "            if isinstance(value, dict):\n",
    "                self[key] = SortedDict(**value)\n",
    "            else:\n",
    "                self[key] = value\n",
    "\n",
    "sorted_dict = SortedDict(**a)\n",
    "sorted_dict"
   ]
  },
  {
   "cell_type": "code",
   "execution_count": null,
   "metadata": {
    "collapsed": false
   },
   "outputs": [],
   "source": [
    "b = obj.xpath('*')\n",
    "b2 = b[0]\n",
    "b2.text()"
   ]
  },
  {
   "cell_type": "code",
   "execution_count": null,
   "metadata": {
    "collapsed": false
   },
   "outputs": [],
   "source": [
    "key, val = ('{http://www.w3.org/2001/XMLSchema-instance}', 'xsi:')\n",
    "s = '{http://www.w3.org/2001/XMLSchema-instance}schemaLocation'\n",
    "s.replace(key, val)"
   ]
  },
  {
   "cell_type": "code",
   "execution_count": null,
   "metadata": {
    "collapsed": false
   },
   "outputs": [],
   "source": [
    "obj.id()"
   ]
  },
  {
   "cell_type": "code",
   "execution_count": null,
   "metadata": {
    "collapsed": false
   },
   "outputs": [],
   "source": [
    "g = obj.subject('CTBI_S00638').experiment('CTBI_E02818').scan('2').resource('3144').file('DTI.bval')\n",
    "g.attributes()\n",
    "type(g)"
   ]
  },
  {
   "cell_type": "code",
   "execution_count": null,
   "metadata": {
    "collapsed": false
   },
   "outputs": [],
   "source": [
    "scans = central.select.project('HEL').subject('CTBI_S00800').experiment('CTBI_E04816').scans()\n",
    "scan = scans[0]"
   ]
  },
  {
   "cell_type": "code",
   "execution_count": null,
   "metadata": {
    "collapsed": false
   },
   "outputs": [],
   "source": [
    "pprint_xml((scan))"
   ]
  },
  {
   "cell_type": "code",
   "execution_count": null,
   "metadata": {
    "collapsed": false
   },
   "outputs": [],
   "source": [
    "param = scan.xpath('*')[-1]"
   ]
  },
  {
   "cell_type": "code",
   "execution_count": null,
   "metadata": {
    "collapsed": false
   },
   "outputs": [],
   "source": [
    "param_children = param.getchildren()\n",
    "param_children"
   ]
  },
  {
   "cell_type": "code",
   "execution_count": null,
   "metadata": {
    "collapsed": false
   },
   "outputs": [],
   "source": [
    "param.xpath('*')"
   ]
  },
  {
   "cell_type": "code",
   "execution_count": null,
   "metadata": {
    "collapsed": false
   },
   "outputs": [],
   "source": [
    "walkthrough(param)"
   ]
  },
  {
   "cell_type": "code",
   "execution_count": null,
   "metadata": {
    "collapsed": false
   },
   "outputs": [],
   "source": [
    "pprint_xml(param)"
   ]
  },
  {
   "cell_type": "code",
   "execution_count": null,
   "metadata": {
    "collapsed": false
   },
   "outputs": [],
   "source": [
    "from libs.xmltodict import xmltodict\n",
    "xmltodict.parse(get_raw_xml(param).encode('utf-8'), process_namespaces=True, namespaces=xnatns)"
   ]
  },
  {
   "cell_type": "code",
   "execution_count": null,
   "metadata": {
    "collapsed": false
   },
   "outputs": [],
   "source": [
    "\n",
    "\n",
    "a = {'a': set([1, 2]), 'b': {1, 2}, 'c': {'d': set([1, 2])}}\n",
    "b = {'a': set([1, 4]), 'b': {1, 3}, 'c': {'d': set([1, 3, 4])}}\n",
    "c = merge(a, b)\n",
    "c"
   ]
  },
  {
   "cell_type": "code",
   "execution_count": null,
   "metadata": {
    "collapsed": false
   },
   "outputs": [],
   "source": [
    "c['a'].add(4)\n",
    "c['b'].add(3)\n",
    "c['b'].add(4)\n",
    "c"
   ]
  },
  {
   "cell_type": "code",
   "execution_count": null,
   "metadata": {
    "collapsed": false
   },
   "outputs": [],
   "source": [
    "e = set([1, 2])\n",
    "e.update(set([1, 3]))\n",
    "e"
   ]
  }
 ],
 "metadata": {
  "anaconda-cloud": {},
  "kernelspec": {
   "display_name": "Python [default]",
   "language": "python",
   "name": "python2"
  },
  "language_info": {
   "codemirror_mode": {
    "name": "ipython",
    "version": 2
   },
   "file_extension": ".py",
   "mimetype": "text/x-python",
   "name": "python",
   "nbconvert_exporter": "python",
   "pygments_lexer": "ipython2",
   "version": "2.7.13"
  },
  "widgets": {
   "state": {
    "0047a5d340bb4981abb91bcc8e180f83": {
     "views": [
      {
       "cell_index": 10
      }
     ]
    },
    "019027a4c6bf4f8e938c13256995fa8c": {
     "views": [
      {
       "cell_index": 10
      }
     ]
    },
    "05a2639f4cee4de49528902437e47483": {
     "views": [
      {
       "cell_index": 10
      }
     ]
    },
    "08aa623014de4dd49c40b7393978ca16": {
     "views": [
      {
       "cell_index": 10
      }
     ]
    },
    "08e5412fd65745658bada84f9118ca54": {
     "views": [
      {
       "cell_index": 10
      }
     ]
    },
    "09ebfc2f7aab4a1294086aa35355ec78": {
     "views": [
      {
       "cell_index": 10
      }
     ]
    },
    "0cbd9676348240769383631c881c79fa": {
     "views": [
      {
       "cell_index": 10
      }
     ]
    },
    "0d545ff71a4547f9a9dc1a4f0d5272f3": {
     "views": [
      {
       "cell_index": 10
      }
     ]
    },
    "0efc36a4b7eb42bf9d22c820720fd901": {
     "views": [
      {
       "cell_index": 10
      }
     ]
    },
    "11d937bec2724768810b9eec857190ed": {
     "views": [
      {
       "cell_index": 10
      }
     ]
    },
    "178fe0614b0845f89d3885f7d0f666f5": {
     "views": [
      {
       "cell_index": 10
      }
     ]
    },
    "19dae28b3e8043e2ba8b7aa1cbf5e1d8": {
     "views": [
      {
       "cell_index": 10
      }
     ]
    },
    "1aa8ccc519ae4c998a0b28c3d7e4fa9f": {
     "views": [
      {
       "cell_index": 10
      }
     ]
    },
    "206483c9456643bc96ee5dcf6dd7f89b": {
     "views": [
      {
       "cell_index": 11
      }
     ]
    },
    "206ada724840401a81f3b6bc02320379": {
     "views": [
      {
       "cell_index": 10
      }
     ]
    },
    "209e10e8504a47798ef779baf0423149": {
     "views": [
      {
       "cell_index": 10
      }
     ]
    },
    "210e0158203242488e700f629ca2cb19": {
     "views": [
      {
       "cell_index": 10
      }
     ]
    },
    "21c30ec1c36a46b19921d4912d9103f8": {
     "views": [
      {
       "cell_index": 10
      }
     ]
    },
    "222d65b024a447f98220dcf1f35d3023": {
     "views": [
      {
       "cell_index": 10
      }
     ]
    },
    "2289baadff174aad8f95acc3468c119e": {
     "views": [
      {
       "cell_index": 10
      }
     ]
    },
    "233f58ad2efd41e788f23e79c5228edd": {
     "views": [
      {
       "cell_index": 10
      }
     ]
    },
    "26a0d4743a174315add57280d2ac07e1": {
     "views": [
      {
       "cell_index": 10
      }
     ]
    },
    "2ab496dd4f4843f89a1337fb233c5765": {
     "views": [
      {
       "cell_index": 10
      }
     ]
    },
    "2b79ea2d848b4f7ba5070045d5acb254": {
     "views": [
      {
       "cell_index": 11
      }
     ]
    },
    "2de04e47fb4e4848b4c5abcd10d9c010": {
     "views": [
      {
       "cell_index": 10
      }
     ]
    },
    "3324a482651945aa8c047fc358d40ec4": {
     "views": [
      {
       "cell_index": 10
      }
     ]
    },
    "33e0e32070da4954b8c12e9f4538936d": {
     "views": [
      {
       "cell_index": 10
      }
     ]
    },
    "3410a53b38614f4faa0c72ea335e6c60": {
     "views": [
      {
       "cell_index": 10
      }
     ]
    },
    "3752482654f14274acfe12be86b66fc4": {
     "views": [
      {
       "cell_index": 10
      }
     ]
    },
    "3ed2d11719914999a1aeef25f90f157f": {
     "views": [
      {
       "cell_index": 10
      }
     ]
    },
    "3edce0816840403aa32bbd31fc2ab1b1": {
     "views": [
      {
       "cell_index": 10
      }
     ]
    },
    "4201a3dfd7bb46419fd1afdc951458f6": {
     "views": [
      {
       "cell_index": 10
      }
     ]
    },
    "457f6dc4a1b84efeb63bb51e16c976db": {
     "views": [
      {
       "cell_index": 10
      }
     ]
    },
    "475006617c604dd5820de7efa5bf7ea9": {
     "views": [
      {
       "cell_index": 10
      }
     ]
    },
    "4bf2937d8c0d46f688954115cb0f89a8": {
     "views": [
      {
       "cell_index": 10
      }
     ]
    },
    "502760ade2324d83ae7e189b4c5cb4af": {
     "views": [
      {
       "cell_index": 10
      }
     ]
    },
    "5aa95d16ecbf45a3ae36011edaeb97d3": {
     "views": [
      {
       "cell_index": 10
      }
     ]
    },
    "5af1ee80c7334331bba8c05e81649e2d": {
     "views": [
      {
       "cell_index": 10
      }
     ]
    },
    "5c122795911a4a94ac701de37533deb5": {
     "views": [
      {
       "cell_index": 10
      }
     ]
    },
    "5c5f6dcafa474bd9a00465fcb46fdce8": {
     "views": [
      {
       "cell_index": 10
      }
     ]
    },
    "617cfe3e44054be98dd31b1fb696778c": {
     "views": [
      {
       "cell_index": 10
      }
     ]
    },
    "6217b7a357f1423a8b581cd795ae6800": {
     "views": [
      {
       "cell_index": 10
      }
     ]
    },
    "6b0f77f9415544848e8fae0d5bd1db92": {
     "views": [
      {
       "cell_index": 10
      }
     ]
    },
    "6c0bf50e40da4031bc7c8d44b1e517ae": {
     "views": [
      {
       "cell_index": 10
      }
     ]
    },
    "6f224c4d495041d587f41f36fe9f1263": {
     "views": [
      {
       "cell_index": 10
      }
     ]
    },
    "7a625e7428794da39e8f48032f575d8e": {
     "views": [
      {
       "cell_index": 10
      }
     ]
    },
    "7bd232e93745428a89332a66b0f50b4b": {
     "views": [
      {
       "cell_index": 10
      }
     ]
    },
    "7be4a45621964ecba2028e714fabc0a9": {
     "views": [
      {
       "cell_index": 10
      }
     ]
    },
    "7ffd4863b5ca4eae96f2f71482dd0c50": {
     "views": [
      {
       "cell_index": 10
      }
     ]
    },
    "8262ce07ef5747e9b39d2a9586831542": {
     "views": [
      {
       "cell_index": 10
      }
     ]
    },
    "835890c84b5c46e5877fe1956f3a59cb": {
     "views": [
      {
       "cell_index": 10
      }
     ]
    },
    "846e2e3eb28846bf88cea81b0c83593e": {
     "views": [
      {
       "cell_index": 10
      }
     ]
    },
    "852c343754d44ebb805c2cc77467e2d8": {
     "views": [
      {
       "cell_index": 10
      }
     ]
    },
    "87ed7d0cd0ae43b89b57e9def2fd8e2c": {
     "views": [
      {
       "cell_index": 10
      }
     ]
    },
    "89c4e2ecd4f0461ba16ba4278cbc4d68": {
     "views": [
      {
       "cell_index": 10
      }
     ]
    },
    "89e623d3c9bd471db835ff14a8b89cf0": {
     "views": [
      {
       "cell_index": 10
      }
     ]
    },
    "8ac3bdfdf2a042518463a7128f42d34d": {
     "views": [
      {
       "cell_index": 10
      }
     ]
    },
    "8d56409f99cf466c8fb35f0450f57e4d": {
     "views": [
      {
       "cell_index": 10
      }
     ]
    },
    "9000db0fe28b4f1f8beb9f5c7bcbf32e": {
     "views": [
      {
       "cell_index": 10
      }
     ]
    },
    "9129772fe1e443b8ba2c74d09f905bc8": {
     "views": [
      {
       "cell_index": 10
      }
     ]
    },
    "917e2dc0f5ac459da6b9e584797f72b0": {
     "views": [
      {
       "cell_index": 10
      }
     ]
    },
    "9557e236159e4e82883568746b8e2969": {
     "views": [
      {
       "cell_index": 10
      }
     ]
    },
    "95e9cedd6e1943aeb9223dd99d4e010a": {
     "views": [
      {
       "cell_index": 10
      }
     ]
    },
    "9616ea6883494299a5d495d73f3437d7": {
     "views": [
      {
       "cell_index": 10
      }
     ]
    },
    "9705226a81fa4555927beb3d429f0bff": {
     "views": [
      {
       "cell_index": 10
      }
     ]
    },
    "99a20cc3a7454ef88ef29f82c2cf7b1a": {
     "views": [
      {
       "cell_index": 10
      }
     ]
    },
    "9c3f1632b568454e94c6a21e05de97ae": {
     "views": [
      {
       "cell_index": 10
      }
     ]
    },
    "9ce90d796c174198a07b06f807f7a4c3": {
     "views": [
      {
       "cell_index": 10
      }
     ]
    },
    "9cfb6696296f45e29a958b2409bad068": {
     "views": [
      {
       "cell_index": 10
      }
     ]
    },
    "9f58a67acd3540e2893ac83dd2f89a53": {
     "views": [
      {
       "cell_index": 10
      }
     ]
    },
    "a039e23201d9466199b00949ba14976a": {
     "views": [
      {
       "cell_index": 10
      }
     ]
    },
    "a1c223643d07412788a9a2fd64389fd5": {
     "views": [
      {
       "cell_index": 10
      }
     ]
    },
    "a2342516dd30486f9b1c9949da7d93e1": {
     "views": [
      {
       "cell_index": 10
      }
     ]
    },
    "a2fcf2b96239424aa45043e3385414a2": {
     "views": [
      {
       "cell_index": 10
      }
     ]
    },
    "a3e668ef487547c9bb89d00a628673d6": {
     "views": [
      {
       "cell_index": 10
      }
     ]
    },
    "a504adec094445e79c7ff08e2ccba17b": {
     "views": [
      {
       "cell_index": 10
      }
     ]
    },
    "a78d620cc96847fe949fa10c687c0642": {
     "views": [
      {
       "cell_index": 10
      }
     ]
    },
    "a8f461857ffd401a9bb17e50d21461f3": {
     "views": [
      {
       "cell_index": 10
      }
     ]
    },
    "aa675b43f3754d1199f0be989b28cb6c": {
     "views": [
      {
       "cell_index": 10
      }
     ]
    },
    "aae4764f8bf9470d923242b0b491081d": {
     "views": [
      {
       "cell_index": 10
      }
     ]
    },
    "ab0a6494d83248c4b3613f69088cade4": {
     "views": [
      {
       "cell_index": 11
      }
     ]
    },
    "adf2676f9c614b0ba3269e718cee8183": {
     "views": [
      {
       "cell_index": 10
      }
     ]
    },
    "ae0e660433904187955cdbc8ca2e9e79": {
     "views": [
      {
       "cell_index": 10
      }
     ]
    },
    "ae569f1566d44ce3b376953b85c8b1fa": {
     "views": [
      {
       "cell_index": 10
      }
     ]
    },
    "aeb90b852bb84b35858415108518128a": {
     "views": [
      {
       "cell_index": 10
      }
     ]
    },
    "b0b35655143245ffaae06a144314af39": {
     "views": [
      {
       "cell_index": 10
      }
     ]
    },
    "b529f59624be496d8f97e97039a48b4f": {
     "views": [
      {
       "cell_index": 10
      }
     ]
    },
    "b623c1fed0094beca2ffc565cf8fe587": {
     "views": [
      {
       "cell_index": 10
      }
     ]
    },
    "b6847afedb5b4c1d878fbd12bbb8d2d9": {
     "views": [
      {
       "cell_index": 10
      }
     ]
    },
    "b789cbd062e7473288f4e5a6f97b2d74": {
     "views": [
      {
       "cell_index": 10
      }
     ]
    },
    "b793e30391194577865cb91d85df165e": {
     "views": [
      {
       "cell_index": 11
      }
     ]
    },
    "bb631f621e764c5ca01d26f0c61eadd8": {
     "views": [
      {
       "cell_index": 10
      }
     ]
    },
    "bb7665e0a71a4245a8b696b337df1d5b": {
     "views": [
      {
       "cell_index": 10
      }
     ]
    },
    "be3bb4e9a79d4ef7b173584330153ca5": {
     "views": [
      {
       "cell_index": 10
      }
     ]
    },
    "be66f217aab049c3879f530fe8e23fa5": {
     "views": [
      {
       "cell_index": 10
      }
     ]
    },
    "bfc90b22a03243bdaa78a62c2c331d80": {
     "views": [
      {
       "cell_index": 10
      }
     ]
    },
    "c2b5cce40a374c31ac1f8248c4d8d91b": {
     "views": [
      {
       "cell_index": 10
      }
     ]
    },
    "c617ce6264ad4c03aada5c4e26668228": {
     "views": [
      {
       "cell_index": 10
      }
     ]
    },
    "c6cf740e4a26424794b8e32c65e978d9": {
     "views": [
      {
       "cell_index": 10
      }
     ]
    },
    "c7ebf62d02624b83ac443d5e7c49eecc": {
     "views": [
      {
       "cell_index": 10
      }
     ]
    },
    "d0505d5ea4a14227844dfbb073fe75f0": {
     "views": [
      {
       "cell_index": 10
      }
     ]
    },
    "d0c15561a4594e3aaff02ada2958224b": {
     "views": [
      {
       "cell_index": 10
      }
     ]
    },
    "d23d54a85e394958b21e6953391812d9": {
     "views": [
      {
       "cell_index": 10
      }
     ]
    },
    "de237142034e4d12805599319a0ddaf8": {
     "views": [
      {
       "cell_index": 11
      }
     ]
    },
    "e3cf0e9c6fa24394bfd11a2ca774a396": {
     "views": [
      {
       "cell_index": 10
      }
     ]
    },
    "e4f78e2482df45fc9ce4ba72ccd88401": {
     "views": [
      {
       "cell_index": 10
      }
     ]
    },
    "e6f1cb531cee4e1cb0988fead99ec133": {
     "views": [
      {
       "cell_index": 10
      }
     ]
    },
    "e92f5f7d74c441299964ba3db2bc55b5": {
     "views": [
      {
       "cell_index": 10
      }
     ]
    },
    "e9dc522422d74317be9aad3816d06409": {
     "views": [
      {
       "cell_index": 10
      }
     ]
    },
    "eb5fb8fbdd20483ea3defd0392ec18c6": {
     "views": [
      {
       "cell_index": 10
      }
     ]
    },
    "ec5d6264d3054a05a08689550f12b4ec": {
     "views": [
      {
       "cell_index": 10
      }
     ]
    },
    "f10d6e0c2ff4421698e9fc2758a4664e": {
     "views": [
      {
       "cell_index": 10
      }
     ]
    },
    "f1ab9a7008a64728a0ad137ae6695779": {
     "views": [
      {
       "cell_index": 10
      }
     ]
    }
   },
   "version": "1.2.0"
  }
 },
 "nbformat": 4,
 "nbformat_minor": 0
}
