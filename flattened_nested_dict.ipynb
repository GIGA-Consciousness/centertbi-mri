{
 "cells": [
  {
   "cell_type": "code",
   "execution_count": null,
   "metadata": {
    "collapsed": false
   },
   "outputs": [],
   "source": [
    "a = {'a': {3, 4}}\n",
    "b = {'a': [1, 2]}\n",
    "a['a'].update(b['a'])\n",
    "a"
   ]
  },
  {
   "cell_type": "code",
   "execution_count": null,
   "metadata": {
    "collapsed": false
   },
   "outputs": [],
   "source": [
    "import shelve\n",
    "\n",
    "class fdict(dict):\n",
    "    '''Flattened nested dict, all items are settable and gettable through ['item1']['item2'] standard form or ['item1/item2'] internal form.\n",
    "    This allows to replace the internal dict with any on-disk storage system like a shelve's shelf (great for huge nested dicts that cannot fit into memory).\n",
    "    Main limitation: an entry can be both a singleton and a nested fdict, and there is no way to tell what is what, no error will be shown, the singleton will always be returned.\n",
    "    '''\n",
    "    def __init__(self, d=None, rootpath='', delimiter='/', *args):\n",
    "        if d:\n",
    "            self.d = d\n",
    "        else:\n",
    "            self.d = {}\n",
    "        self.rootpath = rootpath\n",
    "        self.delimiter = delimiter\n",
    "        #return dict.__init__(self, *args)\n",
    "\n",
    "    def _buildpath(self, key):\n",
    "        return self.rootpath+self.delimiter+key if self.rootpath else key\n",
    "\n",
    "    def __getitem__(self, key):\n",
    "        # Node or leaf?\n",
    "        if key in self.d: # Leaf: return the value\n",
    "            return self.d.__getitem__(key)\n",
    "        else: # Node: return a new full fdict based on the old one but with a different rootpath to limit the results by default\n",
    "            return fdict(d=self.d, rootpath=self._buildpath(key))\n",
    "        #return dict.__getitem__(self, key)\n",
    "\n",
    "    def __setitem__(self, key, value):\n",
    "        #fullkey = self._buildpath(key)\n",
    "        #if fullkey in self.d and :\n",
    "        #    raise ValueError('Conflict detected: the following key is both a singleton and a nested dict: %s' % fullkey)\n",
    "        self.d.__setitem__(self._buildpath(key), value)\n",
    "        #dict.__setitem__(self, key, value)\n",
    "\n",
    "    #def addchild(self, key, value=None):\n",
    "    #    self.d[self._buildpath(key)] = value\n",
    "\n",
    "    def keys(self):\n",
    "        if not self.rootpath:\n",
    "            return self.d.keys()\n",
    "        else:\n",
    "            pattern = self.rootpath+self.delimiter\n",
    "            lpattern = len(pattern)\n",
    "            return [k[lpattern:] for k in self.d.keys() if k.startswith(pattern)]\n",
    "\n",
    "    def items(self):\n",
    "        # Filter items to keep only the ones below the rootpath level\n",
    "        if not self.rootpath:\n",
    "            return self.d.items()\n",
    "        else:\n",
    "            pattern = self.rootpath+self.delimiter\n",
    "            lpattern = len(pattern)\n",
    "            return [(k[lpattern:], v) for k,v in self.d.items() if k.startswith(pattern)]\n",
    "\n",
    "    def values(self):\n",
    "        if not self.rootpath:\n",
    "            return self.d.values()\n",
    "        else:\n",
    "            pattern = self.rootpath+self.delimiter\n",
    "            lpattern = len(pattern)\n",
    "            return [v for k,v in self.d.items() if k.startswith(pattern)]\n",
    "\n",
    "    def update(self, d2):\n",
    "        return self.d.update(d2.d)\n",
    "    \n",
    "    def __repr__(self):\n",
    "        # Filter the items if there is a rootpath and return as a new fdict\n",
    "        if self.rootpath:\n",
    "            return repr(fdict(d=dict(self.items())))\n",
    "        else:\n",
    "            return self.d.__repr__()\n",
    "\n",
    "    def __str__(self):\n",
    "        if self.rootpath:\n",
    "            return str(fdict(d=dict(self.items())))\n",
    "        else:\n",
    "            return self.d.__str__()\n",
    "\n",
    "class sfdict(fdict):\n",
    "    '''A nested dict with flattened internal representation, combined with shelve to allow for efficient storage and memory allocation of huge nested dictionnaries.\n",
    "    If you change leaf items (eg, list.append), do not forget to sync() to commit changes to disk and empty memory cache because else this class has no way to know if leaf items were changed!\n",
    "    '''\n",
    "    def __init__(self, *args, **kwargs):\n",
    "        if not ('filename' in kwargs):\n",
    "            self.filename = None\n",
    "        else:\n",
    "            self.filename = kwargs['filename']\n",
    "            del kwargs['filename']\n",
    "        fdict.__init__(self, *args, **kwargs)\n",
    "        self.d = shelve.open(filename=self.filename, flag='c', writeback=True)\n",
    "\n",
    "    def __setitem__(self, key, value):\n",
    "        fdict.__setitem__(self, key, value)\n",
    "        self.sync()\n",
    "\n",
    "    def get_filename(self):\n",
    "        return self.filename\n",
    "\n",
    "    def sync(self):\n",
    "        self.d.sync()\n",
    "\n",
    "    def close(self):\n",
    "        self.d.close()\n",
    "    \n",
    "\n",
    "a = fdict()\n",
    "a['a'] = {}\n",
    "a['c']['b'] = set([1, 2])\n",
    "b = a['a']\n",
    "print(a.keys())\n",
    "print(b.items())\n",
    "print(a.items())\n",
    "c = {}\n",
    "c['b'] = set([1, 2])\n",
    "print(c.items())\n",
    "\n",
    "print(a.values())\n",
    "print(b.values())\n",
    "print(c.values())\n",
    "\n",
    "d = fdict()\n",
    "d['b'] = {'a': 1}\n",
    "d['c/b'] = set([2, 3, 5])\n",
    "print(d)\n",
    "\n",
    "a.update(d)\n",
    "print(a)\n",
    "print(a['c'])"
   ]
  },
  {
   "cell_type": "code",
   "execution_count": null,
   "metadata": {
    "collapsed": false
   },
   "outputs": [],
   "source": [
    "a['a/b'] = 3\n",
    "a['c']\n",
    "a['c']['e'] = 1\n",
    "a"
   ]
  },
  {
   "cell_type": "code",
   "execution_count": null,
   "metadata": {
    "collapsed": false
   },
   "outputs": [],
   "source": [
    "g = sfdict(filename='testshelf')\n",
    "g['a'] = 3\n",
    "g['b/c'] = set([1, 3, 4])\n",
    "g['d'] = {}\n",
    "g"
   ]
  },
  {
   "cell_type": "code",
   "execution_count": null,
   "metadata": {
    "collapsed": false
   },
   "outputs": [],
   "source": [
    "h = sfdict(filename='testshelf')\n",
    "h"
   ]
  }
 ],
 "metadata": {
  "anaconda-cloud": {},
  "kernelspec": {
   "display_name": "Python [default]",
   "language": "python",
   "name": "python2"
  },
  "language_info": {
   "codemirror_mode": {
    "name": "ipython",
    "version": 2
   },
   "file_extension": ".py",
   "mimetype": "text/x-python",
   "name": "python",
   "nbconvert_exporter": "python",
   "pygments_lexer": "ipython2",
   "version": "2.7.13"
  }
 },
 "nbformat": 4,
 "nbformat_minor": 0
}
