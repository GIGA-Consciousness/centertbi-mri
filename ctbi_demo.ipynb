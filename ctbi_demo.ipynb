{
 "cells": [
  {
   "cell_type": "markdown",
   "metadata": {},
   "source": [
    "# Center TBI demographics & statistics extractor\n",
    "Please edit login.cfg with your credentials before executing this script."
   ]
  },
  {
   "cell_type": "code",
   "execution_count": null,
   "metadata": {
    "collapsed": false
   },
   "outputs": [],
   "source": [
    "#\n",
    "# Last update: Friday: 07/04/2017 by Stephen Larroque\n",
    "#\n",
    "\n",
    "import json\n",
    "from pyxnat import Interface"
   ]
  },
  {
   "cell_type": "code",
   "execution_count": null,
   "metadata": {
    "collapsed": false,
    "scrolled": true
   },
   "outputs": [],
   "source": [
    "# Loading login infos\n",
    "with open('/home/brain/neuro-csg-pipelines/Projects/CTBI/centertbi-mri/login.cfg') as f:\n",
    "    login_infos = json.load(f)\n",
    "\n",
    "# Connect to XNAT db\n",
    "central = Interface(server=\"http://tbixnat.incf.org:8080\", user=login_infos['username'], password=login_infos['password'], cachedir='/tmp')\n",
    "# Add schemas (allows to use .attrs() to get list of attributes)\n",
    "central.manage.schemas.add('xnat.xsd')\n",
    "\n",
    "# Get list of all centers\n",
    "centers = central.select.projects()\n",
    "print(centers.get())\n",
    "\n",
    "# Select center (constraining to one center for the moment)\n",
    "# TODO: loop over all centers\n",
    "#cULgData_Liege_project = central.select.project('LIE')\n",
    "\n",
    "# Show structure of project\n",
    "central.inspect.structure()"
   ]
  },
  {
   "cell_type": "code",
   "execution_count": null,
   "metadata": {
    "collapsed": false
   },
   "outputs": [],
   "source": [
    "import pandas as pd\n",
    "\n",
    "single_subject = True\n",
    "single_center = True\n",
    "\n",
    "def add_dict_noerr(d, key, obj, attr):\n",
    "    try:\n",
    "        d[key] = obj.attrs.get(attr)\n",
    "    except Exception as exc:\n",
    "        pass\n",
    "    return d\n",
    "\n",
    "subjects_table = pd.DataFrame(columns=['id', 'label', 'center', 'age', 'gender', 'dob', 'yob', 'mri', 'fmri', 'dti', 'mri_scandate', 'mri_insertdate', 'subject_insertdate', 'scanner', 'acquisition_site'])\n",
    "\n",
    "centers = central.select.projects()\n",
    "# For each center id\n",
    "for center in centers:\n",
    "    center_id = center.id()\n",
    "    # Select subjects for one center\n",
    "    center_data = central.select.projects(id_filter=center_id)\n",
    "\n",
    "    # For each subject id\n",
    "    for subject in center_data.subjects():\n",
    "        subject_id = subject.id()\n",
    "        print(\"/project/%s/subject/%s/experiments\" % (center_id, subject_id))\n",
    "        exp = central.select(\"/project/%s/subject/%s/experiments\" % (center_id, subject_id)).first()\n",
    "\n",
    "        # Get full access to xml elements (and values)\n",
    "        #root_elt = subject.xpath('/*') # useless for now but can be used to access more values\n",
    "        #print(root_elt)\n",
    "        #print(root_elt[0].getchildren())\n",
    "        #print(root_elt[0].keys())\n",
    "\n",
    "        # Extract subject's demographics\n",
    "        # Extract first fields that always exist (no chance of failure)\n",
    "        sbj_tbl = {'id': subject_id,\n",
    "                   'label': subject.label(),\n",
    "                   'center': center_id,\n",
    "                  }\n",
    "        \n",
    "        # Add attributes that can fail (inexistent for some subjects)\n",
    "        # TODO: complete with more attributes\n",
    "        sbj_tbl = add_dict_noerr(sbj_tbl, 'age', exp, 'age') # xnat:mrSessionData/AGE\n",
    "        sbj_tbl = add_dict_noerr(sbj_tbl, 'gender', subject, 'gender_text') # xnat:subjectData/GENDER_TEXT\n",
    "        sbj_tbl = add_dict_noerr(sbj_tbl, 'dob', subject, 'dob') # xnat:subjectData/DOB\n",
    "        sbj_tbl = add_dict_noerr(sbj_tbl, 'mri_scandate', exp, 'date') # xnat:mrSessionData/DATE\n",
    "        sbj_tbl = add_dict_noerr(sbj_tbl, 'mri_insertdate', exp, 'insert_date') # xnat:mrSessionData/INSERT_DATE\n",
    "        sbj_tbl = add_dict_noerr(sbj_tbl, 'subject_insertdate', subject, 'insert_date') # xnat:subjectData/INSERT_DATE\n",
    "        #sbj_tbl = add_dict_noerr(sbj_tbl, 'scanner', exp, 'scanner_csv') # xnat:mrSessionData/SCANNER_CSV\n",
    "        sbj_tbl['scanner'] = '%s %s' % (exp.xpath('xnat:scanner/@manufacturer')[0], exp.xpath('xnat:scanner/@model')[0])\n",
    "        sbj_tbl['yob'] = subject.xpath('//xnat:yob/text()')[0]\n",
    "        sbj_tbl['gender'] = subject.xpath('//xnat:gender/text()')[0]\n",
    "        sbj_tbl['acquisition_site'] = subject.xpath('//xnat:acquisition_site/text()')[0]\n",
    "\n",
    "        # Aggregated attributes\n",
    "        # quality checks\n",
    "        quality_checks = exp.xpath('//xnat:scan/xnat:quality/text()')\n",
    "        sbj_tbl['quality_checks'] = \"%i/%i\" % (sum([1 if s == 'usable' else 0 for s in quality_checks]), len(quality_checks))\n",
    "        # mri types\n",
    "        mri_series = exp.xpath('//xnat:scan/xnat:series_description/text()')\n",
    "        mri_series = [s.lower() for s in mri_series] # put all in lowercase to ease comparison\n",
    "        if any('epi' in serie for serie in mri_series):\n",
    "            sbj_tbl['fmri'] = 'True'\n",
    "        else:\n",
    "            sbj_tbl['fmri'] = 'False'\n",
    "        if any('mpr' in serie for serie in mri_series) or any('t1' in serie for serie in mri_series):\n",
    "            sbj_tbl['mri'] = 'True'\n",
    "        else:\n",
    "            sbj_tbl['mri'] = 'False'\n",
    "        if any('dti' in serie for serie in mri_series):\n",
    "            sbj_tbl['dti'] = 'True'\n",
    "        else:\n",
    "            sbj_tbl['dti'] = 'False'\n",
    "\n",
    "        # Add to the big table of all subjects\n",
    "        subjects_table = subjects_table.append(sbj_tbl, ignore_index=True)\n",
    "        if single_subject: break # TODO: remove this break to work on all subjects for one center\n",
    "    if single_center: break # TODO: remove this break to work on all centers\n",
    "\n",
    "# Show all XML attributes for last subject\n",
    "subjects_table"
   ]
  },
  {
   "cell_type": "markdown",
   "metadata": {},
   "source": [
    "## Exploring XNAT DB\n",
    "-----------"
   ]
  },
  {
   "cell_type": "code",
   "execution_count": null,
   "metadata": {
    "collapsed": false
   },
   "outputs": [],
   "source": [
    "# Equivalencies\n",
    "central.select.project(\"LIE\")\n",
    "central.select(\"/project/LIE/\")  # XPATH\n",
    "\n",
    "central.select.project(\"LIE\").subject(\"CTBI_S00239\")\n",
    "central.select(\"/project/LIE/subject/CTBI_S00239\")\n",
    "\n",
    "central.select(\"/project/LIE/subject/CTBI_S00239\").experiments().get()\n",
    "central.select(\"/project/LIE/subject/CTBI_S00239/experiments\").get()\n",
    "\n",
    "central.select(\"/project/LIE/subject/CTBI_S00239/experiment/CTBI_E00469\").scans().get()\n",
    "central.select(\"/project/LIE/subject/CTBI_S00239/experiment/CTBI_E00469/scans\").get()\n",
    "\n",
    "central.select(\"/project/LIE/subject/CTBI_S00239/experiment/CTBI_E00469\").scan('1')\n",
    "central.select(\"/project/LIE/subject/CTBI_S00239/experiment/CTBI_E00469/scan/1\")"
   ]
  },
  {
   "cell_type": "code",
   "execution_count": null,
   "metadata": {
    "collapsed": false,
    "scrolled": true
   },
   "outputs": [],
   "source": [
    "# experiment == MRSession\n",
    "print(central.select(\"/project/LIE/subject/CTBI_S00239/experiment/CTBI_E00469\").get())\n",
    "# also note xnat:scans and xnat:scan instead of MRScan when using select()"
   ]
  },
  {
   "cell_type": "markdown",
   "metadata": {},
   "source": [
    "### Example of XML subtag vs attribute\n",
    "```xml\n",
    "<tag attr1=\"something\">\n",
    "    <subtag>something else</subtag>\n",
    "</tag>\n",
    "```"
   ]
  },
  {
   "cell_type": "code",
   "execution_count": null,
   "metadata": {
    "collapsed": false
   },
   "outputs": [],
   "source": [
    "a = central.select(\"/project/LIE/subject/CTBI_S00239/experiment/CTBI_E00469\")\n",
    "# How to access attributes?\n",
    "print(a.attrs.get(\"UID\"))\n",
    "print(a.xpath(\"/xnat:MRSession/@UID\")[0])\n",
    "# How to access subtags?\n",
    "print(a.xpath(\"/xnat:MRSession/xnat:scans/xnat:scan/xnat:quality/text()\"))\n",
    "print(a.xpath(\"//xnat:quality/text()\"))\n",
    "# If lost, print the XML\n",
    "print(a.get())"
   ]
  },
  {
   "cell_type": "code",
   "execution_count": null,
   "metadata": {
    "collapsed": false
   },
   "outputs": [],
   "source": [
    "# Get list of all subjects\n",
    "subjects = central.select('//subjects')\n",
    "print(subjects.get())"
   ]
  },
  {
   "cell_type": "code",
   "execution_count": null,
   "metadata": {
    "collapsed": false
   },
   "outputs": [],
   "source": [
    "print(\"Total number of subjects: %i\" % len(subjects.get()))\n",
    "print(\"Total number of centers: %i\" % len(centers.get()))"
   ]
  },
  {
   "cell_type": "code",
   "execution_count": null,
   "metadata": {
    "collapsed": false
   },
   "outputs": [],
   "source": [
    "# Get all datatypes\n",
    "central.inspect.datatypes()"
   ]
  },
  {
   "cell_type": "code",
   "execution_count": null,
   "metadata": {
    "collapsed": false
   },
   "outputs": [],
   "source": [
    "# Get all subjects data fields\n",
    "print('BE CAREFUL: attributes (such as INSERT_DATE) can only be accessed in lower case (eg, insert_date)! Even if datatypes() display them in uppercase!')\n",
    "central.inspect.datatypes('xnat:subjectData')"
   ]
  },
  {
   "cell_type": "code",
   "execution_count": null,
   "metadata": {
    "collapsed": false
   },
   "outputs": [],
   "source": [
    "# same for mri fields\n",
    "central.inspect.datatypes('xnat:mrSessionData')"
   ]
  },
  {
   "cell_type": "code",
   "execution_count": null,
   "metadata": {
    "collapsed": false
   },
   "outputs": [],
   "source": [
    "# To show all possible values of any field\n",
    "central.inspect.field_values('xnat:subjectData/GENDER_TEXT')"
   ]
  },
  {
   "cell_type": "code",
   "execution_count": null,
   "metadata": {
    "collapsed": false
   },
   "outputs": [],
   "source": [
    "# Construct list of all fields and all possible values\n",
    "all_vals = {}\n",
    "for category in central.inspect.datatypes():\n",
    "    all_vals[category] = {}\n",
    "    for field in central.inspect.datatypes(category):\n",
    "        try:\n",
    "            all_vals[category][field] = central.inspect.field_values('%s' % field)\n",
    "        except Exception as exc:\n",
    "            if 'DatabaseError' in exc:\n",
    "                pass\n",
    "all_vals"
   ]
  },
  {
   "cell_type": "code",
   "execution_count": null,
   "metadata": {
    "collapsed": false
   },
   "outputs": [],
   "source": [
    "central.inspect.field_values('xnat:mrSessionData/SESSION_ID')"
   ]
  },
  {
   "cell_type": "code",
   "execution_count": null,
   "metadata": {
    "collapsed": false
   },
   "outputs": [],
   "source": [
    "central.inspect.experiment_types()"
   ]
  },
  {
   "cell_type": "code",
   "execution_count": null,
   "metadata": {
    "collapsed": false
   },
   "outputs": [],
   "source": [
    "central.inspect.scan_types()"
   ]
  },
  {
   "cell_type": "code",
   "execution_count": null,
   "metadata": {
    "collapsed": false
   },
   "outputs": [],
   "source": [
    "central.inspect.scan_values('xnat:mrSessionData')"
   ]
  },
  {
   "cell_type": "code",
   "execution_count": null,
   "metadata": {
    "collapsed": false
   },
   "outputs": [],
   "source": [
    "# Test to get attributes values (via XML elements direct access)\n",
    "center_data = central.select.projects(id_filter='LIE')\n",
    "subj = center_data.subjects()\n",
    "#subjdata = central.select(\"/project/LIE\")\n",
    "#for subj in central.select(\"/project/LIE/subjects\").get():\n",
    "    #subjdata = central.select(\"/project/LIE/subject/%s\" % subj)\n",
    "subjdata = central.select(\"/project/LIE/subject/CTBI_S00239\")\n",
    "# Get full access to xml elements (and values)\n",
    "root_elt = subjdata.xpath('/*')\n",
    "print(root_elt)\n",
    "print(root_elt[0].getchildren())\n",
    "print(root_elt[0].keys())\n",
    "print(subjdata.xpath('/xnat:Subject/xnat:demographics/xnat:yob')[0].text)\n",
    "print(subjdata.xpath('/xnat:Subject/xnat:demographics/xnat:gender')[0].text)\n",
    "print(subjdata.xpath('/xnat:Subject/xnat:experiments/xnat:experiment')[0].keys())\n",
    "print(subjdata.xpath('/xnat:Subject/xnat:experiments/xnat:experiment')[0].values())\n",
    "\n",
    "#print(subjdata.get())\n",
    "#print(subjdata.id())\n",
    "#subjdata.resources().get()\n",
    "#project.resource('NIFTI').file('image.nii').content()\n",
    "#'T1'\n",
    "# SEE: https://wiki.humanconnectome.org/display/DataUse/Exploring+ConnectomeDB+with+Python\n"
   ]
  },
  {
   "cell_type": "code",
   "execution_count": null,
   "metadata": {
    "collapsed": false
   },
   "outputs": [],
   "source": [
    "mri_subjects = central.inspect.experiment_values('xnat:mrSessionData')\n",
    "print(len(mri_subjects))\n",
    "mri_subjects"
   ]
  },
  {
   "cell_type": "code",
   "execution_count": null,
   "metadata": {
    "collapsed": false
   },
   "outputs": [],
   "source": [
    "# Exploring relationship between elements and datatypes\n",
    "# and access attributes via PyXNAT\n",
    "# see also XNAT Power User slides\n",
    "pr = central.select(\"/projects\").first()\n",
    "print(pr.datatype())\n",
    "print(pr.attrs.get('name'))\n",
    "print('All possible fields: %s' % str(central.inspect.datatypes(pr.datatype())))\n",
    "print\n",
    "\n",
    "subj = central.select(\"/project/LIE/subjects\").first()\n",
    "print(subj.datatype())\n",
    "print(subj.attrs.get('insert_date'))  # ALWAYS lowercase!\n",
    "print('All possible fields: %s' % str(central.inspect.datatypes(subj.datatype())))\n",
    "print\n",
    "\n",
    "exp = central.select(\"/project/LIE/subject/CTBI_S00239/experiments\").first()\n",
    "print(exp.datatype())\n",
    "print(exp.attrs.get('project'))\n",
    "print('All possible fields: %s' % str(central.inspect.datatypes(exp.datatype())))\n",
    "print\n",
    "\n",
    "scans = central.select(\"/project/LIE/subject/CTBI_S00239/experiments/*/scans\").first()\n",
    "print(scans.datatype())\n",
    "#print(scans.attrs.get('project'))\n",
    "print('No attributes for this one!!! Here is the listing: %s' % str(central.inspect.datatypes(scans.datatype())))"
   ]
  },
  {
   "cell_type": "code",
   "execution_count": null,
   "metadata": {
    "collapsed": false
   },
   "outputs": [],
   "source": [
    "# How to access attributes:\n",
    "# Get experiment (or any other xml element)\n",
    "exp = central.select('/project/CAMTRIO/subject/CTBI_S00638/experiments').first()\n",
    "# Two ways of accessing simple attributes\n",
    "print(exp.attrs.get('date'))  # via pyxnat\n",
    "print(exp.xpath('xnat:date/text()')[0])  # via xpath\n",
    "# Only one way to access complex attributes (the attribute of a sub-element)\n",
    "print(exp.xpath('xnat:scanner/@manufacturer')[0]) # via xpath\n",
    "# Print the whole XML for this element (the experiment) so you can see other attributes you can use\n",
    "print(exp.get())"
   ]
  },
  {
   "cell_type": "code",
   "execution_count": null,
   "metadata": {
    "collapsed": false
   },
   "outputs": [],
   "source": [
    "quality_checks = exp.xpath('//xnat:scan/xnat:quality/text()')\n",
    "print(\"%i/%i\" % (sum([1 if s == 'usable' else 0 for s in quality_checks]), len(quality_checks)))\n",
    "print(exp.xpath('//xnat:scan/xnat:series_description/text()'))"
   ]
  },
  {
   "cell_type": "code",
   "execution_count": null,
   "metadata": {
    "collapsed": true
   },
   "outputs": [],
   "source": [
    "# TODO: save subjects_table into a csv (use sep=';' to be compatible with Excel)"
   ]
  },
  {
   "cell_type": "code",
   "execution_count": null,
   "metadata": {
    "collapsed": true
   },
   "outputs": [],
   "source": [
    "# TODO: download files, see http://xnat.bigr.nl/index.php/Xnat:Pyxnat\n",
    "#allscans = xnat.select.project(\"PROJECTNAME\").subject(\"SUBJECT\").experiment(\"SESSION\").scans()\n",
    "#for scan in allscans:\n",
    "    #allscans.download(\"DOWNLOADDIR\", type='ALL', extract=True)"
   ]
  },
  {
   "cell_type": "code",
   "execution_count": null,
   "metadata": {
    "collapsed": true
   },
   "outputs": [],
   "source": []
  }
 ],
 "metadata": {
  "anaconda-cloud": {},
  "kernelspec": {
   "display_name": "Python [Root]",
   "language": "python",
   "name": "Python [Root]"
  },
  "language_info": {
   "codemirror_mode": {
    "name": "ipython",
    "version": 2
   },
   "file_extension": ".py",
   "mimetype": "text/x-python",
   "name": "python",
   "nbconvert_exporter": "python",
   "pygments_lexer": "ipython2",
   "version": "2.7.12"
  }
 },
 "nbformat": 4,
 "nbformat_minor": 0
}
